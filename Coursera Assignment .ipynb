{
 "cells": [
  {
   "cell_type": "markdown",
   "id": "7d24d5de-f055-4ce4-99d2-659887f49595",
   "metadata": {},
   "source": [
    "# Coursera Assignment one"
   ]
  },
  {
   "cell_type": "markdown",
   "id": "b9061ce3-5c6a-47dc-9558-aec8b6d30351",
   "metadata": {},
   "source": [
    "# Introduction\r\n",
    "\r\n",
    "This notebook is part of the Coursera Assignment for t Tool for Data Sciencee]. The goal of this assignment is to demonstrate the application of key concepts covered in the courseod luck!\r\n"
   ]
  },
  {
   "cell_type": "markdown",
   "id": "d10b33e6-d545-4e6d-8e18-2e66d4396b7a",
   "metadata": {},
   "source": [
    "# Data Science Languages\r\n",
    "\r\n",
    "The following are some of the most widely used languages in data science:\r\n",
    "\r\n",
    "1. **Python** - Known for its simplicity and a vast ecosystem of libraries such as Pandas, NumPy, and Scikit-learn.\r\n",
    "2. **R** - A language specifically designed for statistical computing and graphics.\r\n",
    "3. **SQL** - Essential for querying and managing data stored in databases.\r\n",
    "4. **Julia** - A high-performance language for numerical and scientific computing.\r\n",
    "5. **Java** - Often used for large-scale data processing and production systems.\r\n",
    "6. **Scala** - Commonly used with Apache Spark for big data processing.\r\n",
    "7. **MATLAB** - Utilized in academia and industries for numerical analysis and visualization.\r\n",
    "\r\n",
    "These languages form the foundation for various data science workflows, including data analysis, visualization, and machine learning.\r\n"
   ]
  },
  {
   "cell_type": "markdown",
   "id": "a2f0a489-709c-4aad-9daa-45fe13afae91",
   "metadata": {},
   "source": [
    "# Data Science Libraries\r\n",
    "\r\n",
    "The following are some commonly used libraries in data science:\r\n",
    "\r\n",
    "## Python Libraries\r\n",
    "1. **NumPy** - For numerical computations and handling arrays.\r\n",
    "2. **Pandas** - For data manipulation and analysis.\r\n",
    "3. **Matplotlib** and **Seaborn** - For data visualization.\r\n",
    "4. **Scikit-learn** - For machine learning algorithms and tools.\r\n",
    "5. **TensorFlow** and **PyTorch** - For deep learning.\r\n",
    "\r\n",
    "## R Libraries\r\n",
    "1. **ggplot2** - For creating advanced visualizations.\r\n",
    "2. **dplyr** - For data manipulation.\r\n",
    "3. **caret** - For machine learning tasks.\r\n",
    "4. **tidyverse** - A collection of R packages for data science.\r\n",
    "\r\n",
    "These libraries are fundamental to performing various tasks in data science, including data manipulation, visualization, and modeling.\r\n"
   ]
  },
  {
   "cell_type": "markdown",
   "id": "81f54854-8506-4f00-a4b3-fda4dd2904f1",
   "metadata": {},
   "source": [
    "n\r\n",
    "# Data Science Tools\r\n",
    "\r\n",
    "The following table lists some of the widely used tools in data science:\r\n",
    "\r\n",
    "| **Tool**             | **Category**           | **Description**                                                             |\r\n",
    "|-----------------------|------------------------|-----------------------------------------------------------------------------|\r\n",
    "| Jupyter Notebook      | Development Environment | Interactive environment for coding, visualization, and documentation.      |\r\n",
    "| RStudio               | Development Environment | Integrated development environment for R programming.                      |\r\n",
    "| Apache Spark          | Big Data Processing    | Distributed data processing engine for big data analytics.                 |\r\n",
    "| TensorFlow            | Machine Learning       | Open-source library for machine learning and deep learning.                |\r\n",
    "| Tableau               | Data Visualization     | Software for creating interactive and shareable dashboards.                |\r\n",
    "| SQL                   | Database Management    | Language for querying and managing data in relational databases.           |\r\n",
    "| Microsoft Excel       | Data Manipulation      | Tool for spreadsheet analysis and basic data manipulation.                 |\r\n",
    "| GitHub                | Version Control        | Platform for hosting, version control, and collaboration on code.          |\r\n",
    "\r\n",
    "These tools are essential for various stages of the data science workflow, from data preprocessing to modeling and visualization.\r\n",
    "```"
   ]
  },
  {
   "cell_type": "markdown",
   "id": "34a562b0-5953-46c3-8c60-1982471b2950",
   "metadata": {},
   "source": [
    "# Arithmetic Expression Examples\n",
    "\n",
    "Arithmetic expressions are used to perform basic mathematical operations. These operations include addition, subtraction, multiplication, division, and more. Here are some examples of common arithmetic expressions:\n",
    "\n",
    "- **Addition (`+`)**: Used to add two or more numbers.  \n",
    "  Example: `5 + 3 = 8`\n",
    "\n",
    "- **Subtraction (`-`)**: Used to subtract one number from another.  \n",
    "  Example: `10 - 4 = 6`\n",
    "\n",
    "- **Multiplication (`*`)**: Used to multiply two or more numbers.  \n",
    "  Example: `6 * 7 = 42`\n",
    "\n",
    "- **Division (`/`)**: Used to divide one number by another.  \n",
    "  Example: `8 / 2 = 4`\n",
    "\n",
    "- **Exponentiation (`^` or `**`)**: Used to raise a number to the power of another.  \n",
    "  Example: `2^3 = 8`\n",
    "\n",
    "These expressions are fundamental to performing calculations in data analysis and programming.\n"
   ]
  },
  {
   "cell_type": "markdown",
   "id": "a40f7375-4319-471a-9695-e79d4b6f53ee",
   "metadata": {},
   "source": [
    "## Multiply and Addition"
   ]
  },
  {
   "cell_type": "code",
   "execution_count": 4,
   "id": "9ce21df3-763e-4b37-a228-a808f2cf390c",
   "metadata": {},
   "outputs": [
    {
     "name": "stdout",
     "output_type": "stream",
     "text": [
      "The result of multiplication is: 15\n",
      "The result of addition is: 17\n"
     ]
    }
   ],
   "source": [
    "# Multiply two numbers\n",
    "multiplication_result = 5 * 3\n",
    "\n",
    "# Add two numbers\n",
    "addition_result = 10 + 7\n",
    "\n",
    "# Display the results\n",
    "print(\"The result of multiplication is:\", multiplication_result)\n",
    "print(\"The result of addition is:\", addition_result)\n"
   ]
  },
  {
   "cell_type": "markdown",
   "id": "0c9a5179-7785-4d07-96de-3e32235f1cd1",
   "metadata": {},
   "source": [
    " ## Convert Minutes to Hours."
   ]
  },
  {
   "cell_type": "code",
   "execution_count": 3,
   "id": "c9026689-52f9-4855-85a4-3939a1822220",
   "metadata": {},
   "outputs": [
    {
     "name": "stdout",
     "output_type": "stream",
     "text": [
      "120 minutes is equal to 2.0 hours.\n"
     ]
    }
   ],
   "source": [
    "# Define the number of minutes\n",
    "minutes = 120\n",
    "\n",
    "# Convert minutes to hours\n",
    "hours = minutes / 60\n",
    "\n",
    "# Display the result\n",
    "print(f\"{minutes} minutes is equal to {hours} hours.\")\n"
   ]
  },
  {
   "cell_type": "markdown",
   "id": "d66ddf21-842b-4e1d-b806-59389aa91bb4",
   "metadata": {},
   "source": [
    "# Objectives\n",
    "\n",
    "The key objectives of this project are:\n",
    "\n",
    "1. Understand the fundamental concepts of [topic/problem being addressed].\n",
    "2. Explore and preprocess the dataset for analysis.\n",
    "3. Apply relevant data science techniques to extract insights.\n",
    "4. Create visualizations to represent data trends and patterns.\n",
    "5. Develop predictive or descriptive models to solve the problem.\n",
    "6. Communicate findings and recommendations effectively.\n",
    "\n",
    "These objectives will guide the workflow and ensure a structured approach to achieving project goals.\n"
   ]
  },
  {
   "cell_type": "markdown",
   "id": "13e70dd8-f5cc-4f2a-a209-2f62c3090bd7",
   "metadata": {},
   "source": [
    "# Author\n",
    "\n",
    "This project was created by **Muhammad Salman Anwar**.\n",
    "\n",
    "Feel free to reach out with any questions or feedback.\n"
   ]
  },
  {
   "cell_type": "code",
   "execution_count": null,
   "id": "cf8669fe-25e6-4f24-b225-01d8a111ad34",
   "metadata": {},
   "outputs": [],
   "source": []
  }
 ],
 "metadata": {
  "kernelspec": {
   "display_name": "Python 3 (ipykernel)",
   "language": "python",
   "name": "python3"
  },
  "language_info": {
   "codemirror_mode": {
    "name": "ipython",
    "version": 3
   },
   "file_extension": ".py",
   "mimetype": "text/x-python",
   "name": "python",
   "nbconvert_exporter": "python",
   "pygments_lexer": "ipython3",
   "version": "3.11.7"
  }
 },
 "nbformat": 4,
 "nbformat_minor": 5
}

{
  "nbformat": 4,
  "nbformat_minor": 0,
  "metadata": {
    "colab": {
      "provenance": []
    },
    "kernelspec": {
      "name": "python3",
      "display_name": "Python 3"
    },
    "language_info": {
      "name": "python"
    }
  },
  "cells": [
    {
      "cell_type": "markdown",
      "source": [
        "#**Import important Libraries**"
      ],
      "metadata": {
        "id": "yIOk2_xWJeNQ"
      }
    },
    {
      "cell_type": "code",
      "source": [
        "import pandas as pd\n",
        "import yfinance as yf\n",
        "import requests\n",
        "from bs4 import BeautifulSoup"
      ],
      "metadata": {
        "id": "uZGvB-CNGggo"
      },
      "execution_count": null,
      "outputs": []
    },
    {
      "cell_type": "markdown",
      "source": [
        "#**Question No 01**"
      ],
      "metadata": {
        "id": "YdPF5fEJGyNW"
      }
    },
    {
      "cell_type": "markdown",
      "source": [
        "**Use yfinance to Extract Stock Data**\n",
        "\n",
        "**Reset the index, save, and display the first five rows of the tesla_data dataframe using the head function**"
      ],
      "metadata": {
        "id": "E-hpSdghHEvC"
      }
    },
    {
      "cell_type": "code",
      "source": [
        "# Use yfinance to extract Tesla stock data\n",
        "tesla_data = yf.download('TSLA', start='2020-01-01', end='2022-01-01')\n",
        "\n",
        "# Reset the index of the DataFrame\n",
        "tesla_data.reset_index(inplace=True)"
      ],
      "metadata": {
        "id": "Ew9MlKDnl3CG"
      },
      "execution_count": null,
      "outputs": []
    },
    {
      "cell_type": "code",
      "execution_count": null,
      "metadata": {
        "colab": {
          "base_uri": "https://localhost:8080/"
        },
        "id": "g96DAFtEkFmC",
        "outputId": "1f48cf46-5681-41fb-f464-300da5c09b86"
      },
      "outputs": [
        {
          "output_type": "stream",
          "name": "stdout",
          "text": [
            "First five rows of the tesla_data DataFrame:\n",
            "Price        Date  Adj Close      Close       High        Low       Open  \\\n",
            "Ticker                  TSLA       TSLA       TSLA       TSLA       TSLA   \n",
            "0      2020-01-02  28.684000  28.684000  28.713333  28.114000  28.299999   \n",
            "1      2020-01-03  29.534000  29.534000  30.266666  29.128000  29.366667   \n",
            "2      2020-01-06  30.102667  30.102667  30.104000  29.333332  29.364668   \n",
            "3      2020-01-07  31.270666  31.270666  31.441999  30.224001  30.760000   \n",
            "4      2020-01-08  32.809334  32.809334  33.232666  31.215334  31.580000   \n",
            "\n",
            "Price      Volume  \n",
            "Ticker       TSLA  \n",
            "0       142981500  \n",
            "1       266677500  \n",
            "2       151995000  \n",
            "3       268231500  \n",
            "4       467164500  \n"
          ]
        }
      ],
      "source": [
        "# Display the first five rows of the tesla_data DataFrame\n",
        "print(\"First five rows of the tesla_data DataFrame:\")\n",
        "print(tesla_data.head())"
      ]
    },
    {
      "cell_type": "markdown",
      "source": [
        "#**Question No 2**"
      ],
      "metadata": {
        "id": "gtGoeMzuHhHk"
      }
    },
    {
      "cell_type": "markdown",
      "source": [
        "**Use Webscraping to Extract Tesla Revenue Data**\n",
        "\n",
        "**Display the last five rows of the tesla_revenue dataframe using the tail function**"
      ],
      "metadata": {
        "id": "eqq_AxMLHZhy"
      }
    },
    {
      "cell_type": "code",
      "source": [
        "\n",
        "\n",
        "# Define the URL for the data\n",
        "url = \"https://cf-courses-data.s3.us.cloud-object-storage.appdomain.cloud/IBMDeveloperSkillsNetwork-PY0220EN-SkillsNetwork/labs/project/revenue.htm\"\n",
        "\n",
        "# Scrape the data into a pandas DataFrame\n",
        "tesla_revenue = pd.read_html(url)[0]\n",
        "\n",
        "# Display the last five rows of the dataframe\n",
        "tesla_revenue_tail = tesla_revenue.tail()\n",
        "\n",
        "tesla_revenue_tail\n"
      ],
      "metadata": {
        "colab": {
          "base_uri": "https://localhost:8080/",
          "height": 206
        },
        "id": "lvMNr2kal5LA",
        "outputId": "ba45e64c-8ae3-4f98-ac0e-3121919228be"
      },
      "execution_count": 3,
      "outputs": [
        {
          "output_type": "execute_result",
          "data": {
            "text/plain": [
              "    Tesla Annual Revenue (Millions of US $)  \\\n",
              "8                                      2013   \n",
              "9                                      2012   \n",
              "10                                     2011   \n",
              "11                                     2010   \n",
              "12                                     2009   \n",
              "\n",
              "   Tesla Annual Revenue (Millions of US $).1  \n",
              "8                                     $2,013  \n",
              "9                                       $413  \n",
              "10                                      $204  \n",
              "11                                      $117  \n",
              "12                                      $112  "
            ],
            "text/html": [
              "\n",
              "  <div id=\"df-85cc2e41-2bb8-4c4d-b97b-61fe66ab88f9\" class=\"colab-df-container\">\n",
              "    <div>\n",
              "<style scoped>\n",
              "    .dataframe tbody tr th:only-of-type {\n",
              "        vertical-align: middle;\n",
              "    }\n",
              "\n",
              "    .dataframe tbody tr th {\n",
              "        vertical-align: top;\n",
              "    }\n",
              "\n",
              "    .dataframe thead th {\n",
              "        text-align: right;\n",
              "    }\n",
              "</style>\n",
              "<table border=\"1\" class=\"dataframe\">\n",
              "  <thead>\n",
              "    <tr style=\"text-align: right;\">\n",
              "      <th></th>\n",
              "      <th>Tesla Annual Revenue (Millions of US $)</th>\n",
              "      <th>Tesla Annual Revenue (Millions of US $).1</th>\n",
              "    </tr>\n",
              "  </thead>\n",
              "  <tbody>\n",
              "    <tr>\n",
              "      <th>8</th>\n",
              "      <td>2013</td>\n",
              "      <td>$2,013</td>\n",
              "    </tr>\n",
              "    <tr>\n",
              "      <th>9</th>\n",
              "      <td>2012</td>\n",
              "      <td>$413</td>\n",
              "    </tr>\n",
              "    <tr>\n",
              "      <th>10</th>\n",
              "      <td>2011</td>\n",
              "      <td>$204</td>\n",
              "    </tr>\n",
              "    <tr>\n",
              "      <th>11</th>\n",
              "      <td>2010</td>\n",
              "      <td>$117</td>\n",
              "    </tr>\n",
              "    <tr>\n",
              "      <th>12</th>\n",
              "      <td>2009</td>\n",
              "      <td>$112</td>\n",
              "    </tr>\n",
              "  </tbody>\n",
              "</table>\n",
              "</div>\n",
              "    <div class=\"colab-df-buttons\">\n",
              "\n",
              "  <div class=\"colab-df-container\">\n",
              "    <button class=\"colab-df-convert\" onclick=\"convertToInteractive('df-85cc2e41-2bb8-4c4d-b97b-61fe66ab88f9')\"\n",
              "            title=\"Convert this dataframe to an interactive table.\"\n",
              "            style=\"display:none;\">\n",
              "\n",
              "  <svg xmlns=\"http://www.w3.org/2000/svg\" height=\"24px\" viewBox=\"0 -960 960 960\">\n",
              "    <path d=\"M120-120v-720h720v720H120Zm60-500h600v-160H180v160Zm220 220h160v-160H400v160Zm0 220h160v-160H400v160ZM180-400h160v-160H180v160Zm440 0h160v-160H620v160ZM180-180h160v-160H180v160Zm440 0h160v-160H620v160Z\"/>\n",
              "  </svg>\n",
              "    </button>\n",
              "\n",
              "  <style>\n",
              "    .colab-df-container {\n",
              "      display:flex;\n",
              "      gap: 12px;\n",
              "    }\n",
              "\n",
              "    .colab-df-convert {\n",
              "      background-color: #E8F0FE;\n",
              "      border: none;\n",
              "      border-radius: 50%;\n",
              "      cursor: pointer;\n",
              "      display: none;\n",
              "      fill: #1967D2;\n",
              "      height: 32px;\n",
              "      padding: 0 0 0 0;\n",
              "      width: 32px;\n",
              "    }\n",
              "\n",
              "    .colab-df-convert:hover {\n",
              "      background-color: #E2EBFA;\n",
              "      box-shadow: 0px 1px 2px rgba(60, 64, 67, 0.3), 0px 1px 3px 1px rgba(60, 64, 67, 0.15);\n",
              "      fill: #174EA6;\n",
              "    }\n",
              "\n",
              "    .colab-df-buttons div {\n",
              "      margin-bottom: 4px;\n",
              "    }\n",
              "\n",
              "    [theme=dark] .colab-df-convert {\n",
              "      background-color: #3B4455;\n",
              "      fill: #D2E3FC;\n",
              "    }\n",
              "\n",
              "    [theme=dark] .colab-df-convert:hover {\n",
              "      background-color: #434B5C;\n",
              "      box-shadow: 0px 1px 3px 1px rgba(0, 0, 0, 0.15);\n",
              "      filter: drop-shadow(0px 1px 2px rgba(0, 0, 0, 0.3));\n",
              "      fill: #FFFFFF;\n",
              "    }\n",
              "  </style>\n",
              "\n",
              "    <script>\n",
              "      const buttonEl =\n",
              "        document.querySelector('#df-85cc2e41-2bb8-4c4d-b97b-61fe66ab88f9 button.colab-df-convert');\n",
              "      buttonEl.style.display =\n",
              "        google.colab.kernel.accessAllowed ? 'block' : 'none';\n",
              "\n",
              "      async function convertToInteractive(key) {\n",
              "        const element = document.querySelector('#df-85cc2e41-2bb8-4c4d-b97b-61fe66ab88f9');\n",
              "        const dataTable =\n",
              "          await google.colab.kernel.invokeFunction('convertToInteractive',\n",
              "                                                    [key], {});\n",
              "        if (!dataTable) return;\n",
              "\n",
              "        const docLinkHtml = 'Like what you see? Visit the ' +\n",
              "          '<a target=\"_blank\" href=https://colab.research.google.com/notebooks/data_table.ipynb>data table notebook</a>'\n",
              "          + ' to learn more about interactive tables.';\n",
              "        element.innerHTML = '';\n",
              "        dataTable['output_type'] = 'display_data';\n",
              "        await google.colab.output.renderOutput(dataTable, element);\n",
              "        const docLink = document.createElement('div');\n",
              "        docLink.innerHTML = docLinkHtml;\n",
              "        element.appendChild(docLink);\n",
              "      }\n",
              "    </script>\n",
              "  </div>\n",
              "\n",
              "\n",
              "<div id=\"df-baea2e89-6949-496a-b3f9-b685e1dcd0f8\">\n",
              "  <button class=\"colab-df-quickchart\" onclick=\"quickchart('df-baea2e89-6949-496a-b3f9-b685e1dcd0f8')\"\n",
              "            title=\"Suggest charts\"\n",
              "            style=\"display:none;\">\n",
              "\n",
              "<svg xmlns=\"http://www.w3.org/2000/svg\" height=\"24px\"viewBox=\"0 0 24 24\"\n",
              "     width=\"24px\">\n",
              "    <g>\n",
              "        <path d=\"M19 3H5c-1.1 0-2 .9-2 2v14c0 1.1.9 2 2 2h14c1.1 0 2-.9 2-2V5c0-1.1-.9-2-2-2zM9 17H7v-7h2v7zm4 0h-2V7h2v10zm4 0h-2v-4h2v4z\"/>\n",
              "    </g>\n",
              "</svg>\n",
              "  </button>\n",
              "\n",
              "<style>\n",
              "  .colab-df-quickchart {\n",
              "      --bg-color: #E8F0FE;\n",
              "      --fill-color: #1967D2;\n",
              "      --hover-bg-color: #E2EBFA;\n",
              "      --hover-fill-color: #174EA6;\n",
              "      --disabled-fill-color: #AAA;\n",
              "      --disabled-bg-color: #DDD;\n",
              "  }\n",
              "\n",
              "  [theme=dark] .colab-df-quickchart {\n",
              "      --bg-color: #3B4455;\n",
              "      --fill-color: #D2E3FC;\n",
              "      --hover-bg-color: #434B5C;\n",
              "      --hover-fill-color: #FFFFFF;\n",
              "      --disabled-bg-color: #3B4455;\n",
              "      --disabled-fill-color: #666;\n",
              "  }\n",
              "\n",
              "  .colab-df-quickchart {\n",
              "    background-color: var(--bg-color);\n",
              "    border: none;\n",
              "    border-radius: 50%;\n",
              "    cursor: pointer;\n",
              "    display: none;\n",
              "    fill: var(--fill-color);\n",
              "    height: 32px;\n",
              "    padding: 0;\n",
              "    width: 32px;\n",
              "  }\n",
              "\n",
              "  .colab-df-quickchart:hover {\n",
              "    background-color: var(--hover-bg-color);\n",
              "    box-shadow: 0 1px 2px rgba(60, 64, 67, 0.3), 0 1px 3px 1px rgba(60, 64, 67, 0.15);\n",
              "    fill: var(--button-hover-fill-color);\n",
              "  }\n",
              "\n",
              "  .colab-df-quickchart-complete:disabled,\n",
              "  .colab-df-quickchart-complete:disabled:hover {\n",
              "    background-color: var(--disabled-bg-color);\n",
              "    fill: var(--disabled-fill-color);\n",
              "    box-shadow: none;\n",
              "  }\n",
              "\n",
              "  .colab-df-spinner {\n",
              "    border: 2px solid var(--fill-color);\n",
              "    border-color: transparent;\n",
              "    border-bottom-color: var(--fill-color);\n",
              "    animation:\n",
              "      spin 1s steps(1) infinite;\n",
              "  }\n",
              "\n",
              "  @keyframes spin {\n",
              "    0% {\n",
              "      border-color: transparent;\n",
              "      border-bottom-color: var(--fill-color);\n",
              "      border-left-color: var(--fill-color);\n",
              "    }\n",
              "    20% {\n",
              "      border-color: transparent;\n",
              "      border-left-color: var(--fill-color);\n",
              "      border-top-color: var(--fill-color);\n",
              "    }\n",
              "    30% {\n",
              "      border-color: transparent;\n",
              "      border-left-color: var(--fill-color);\n",
              "      border-top-color: var(--fill-color);\n",
              "      border-right-color: var(--fill-color);\n",
              "    }\n",
              "    40% {\n",
              "      border-color: transparent;\n",
              "      border-right-color: var(--fill-color);\n",
              "      border-top-color: var(--fill-color);\n",
              "    }\n",
              "    60% {\n",
              "      border-color: transparent;\n",
              "      border-right-color: var(--fill-color);\n",
              "    }\n",
              "    80% {\n",
              "      border-color: transparent;\n",
              "      border-right-color: var(--fill-color);\n",
              "      border-bottom-color: var(--fill-color);\n",
              "    }\n",
              "    90% {\n",
              "      border-color: transparent;\n",
              "      border-bottom-color: var(--fill-color);\n",
              "    }\n",
              "  }\n",
              "</style>\n",
              "\n",
              "  <script>\n",
              "    async function quickchart(key) {\n",
              "      const quickchartButtonEl =\n",
              "        document.querySelector('#' + key + ' button');\n",
              "      quickchartButtonEl.disabled = true;  // To prevent multiple clicks.\n",
              "      quickchartButtonEl.classList.add('colab-df-spinner');\n",
              "      try {\n",
              "        const charts = await google.colab.kernel.invokeFunction(\n",
              "            'suggestCharts', [key], {});\n",
              "      } catch (error) {\n",
              "        console.error('Error during call to suggestCharts:', error);\n",
              "      }\n",
              "      quickchartButtonEl.classList.remove('colab-df-spinner');\n",
              "      quickchartButtonEl.classList.add('colab-df-quickchart-complete');\n",
              "    }\n",
              "    (() => {\n",
              "      let quickchartButtonEl =\n",
              "        document.querySelector('#df-baea2e89-6949-496a-b3f9-b685e1dcd0f8 button');\n",
              "      quickchartButtonEl.style.display =\n",
              "        google.colab.kernel.accessAllowed ? 'block' : 'none';\n",
              "    })();\n",
              "  </script>\n",
              "</div>\n",
              "\n",
              "  <div id=\"id_6daab443-6804-4c3b-abd3-fd2bb485627a\">\n",
              "    <style>\n",
              "      .colab-df-generate {\n",
              "        background-color: #E8F0FE;\n",
              "        border: none;\n",
              "        border-radius: 50%;\n",
              "        cursor: pointer;\n",
              "        display: none;\n",
              "        fill: #1967D2;\n",
              "        height: 32px;\n",
              "        padding: 0 0 0 0;\n",
              "        width: 32px;\n",
              "      }\n",
              "\n",
              "      .colab-df-generate:hover {\n",
              "        background-color: #E2EBFA;\n",
              "        box-shadow: 0px 1px 2px rgba(60, 64, 67, 0.3), 0px 1px 3px 1px rgba(60, 64, 67, 0.15);\n",
              "        fill: #174EA6;\n",
              "      }\n",
              "\n",
              "      [theme=dark] .colab-df-generate {\n",
              "        background-color: #3B4455;\n",
              "        fill: #D2E3FC;\n",
              "      }\n",
              "\n",
              "      [theme=dark] .colab-df-generate:hover {\n",
              "        background-color: #434B5C;\n",
              "        box-shadow: 0px 1px 3px 1px rgba(0, 0, 0, 0.15);\n",
              "        filter: drop-shadow(0px 1px 2px rgba(0, 0, 0, 0.3));\n",
              "        fill: #FFFFFF;\n",
              "      }\n",
              "    </style>\n",
              "    <button class=\"colab-df-generate\" onclick=\"generateWithVariable('tesla_revenue_tail')\"\n",
              "            title=\"Generate code using this dataframe.\"\n",
              "            style=\"display:none;\">\n",
              "\n",
              "  <svg xmlns=\"http://www.w3.org/2000/svg\" height=\"24px\"viewBox=\"0 0 24 24\"\n",
              "       width=\"24px\">\n",
              "    <path d=\"M7,19H8.4L18.45,9,17,7.55,7,17.6ZM5,21V16.75L18.45,3.32a2,2,0,0,1,2.83,0l1.4,1.43a1.91,1.91,0,0,1,.58,1.4,1.91,1.91,0,0,1-.58,1.4L9.25,21ZM18.45,9,17,7.55Zm-12,3A5.31,5.31,0,0,0,4.9,8.1,5.31,5.31,0,0,0,1,6.5,5.31,5.31,0,0,0,4.9,4.9,5.31,5.31,0,0,0,6.5,1,5.31,5.31,0,0,0,8.1,4.9,5.31,5.31,0,0,0,12,6.5,5.46,5.46,0,0,0,6.5,12Z\"/>\n",
              "  </svg>\n",
              "    </button>\n",
              "    <script>\n",
              "      (() => {\n",
              "      const buttonEl =\n",
              "        document.querySelector('#id_6daab443-6804-4c3b-abd3-fd2bb485627a button.colab-df-generate');\n",
              "      buttonEl.style.display =\n",
              "        google.colab.kernel.accessAllowed ? 'block' : 'none';\n",
              "\n",
              "      buttonEl.onclick = () => {\n",
              "        google.colab.notebook.generateWithVariable('tesla_revenue_tail');\n",
              "      }\n",
              "      })();\n",
              "    </script>\n",
              "  </div>\n",
              "\n",
              "    </div>\n",
              "  </div>\n"
            ],
            "application/vnd.google.colaboratory.intrinsic+json": {
              "type": "dataframe",
              "variable_name": "tesla_revenue_tail",
              "summary": "{\n  \"name\": \"tesla_revenue_tail\",\n  \"rows\": 5,\n  \"fields\": [\n    {\n      \"column\": \"Tesla Annual Revenue (Millions of US $)\",\n      \"properties\": {\n        \"dtype\": \"number\",\n        \"std\": 1,\n        \"min\": 2009,\n        \"max\": 2013,\n        \"num_unique_values\": 5,\n        \"samples\": [\n          2012,\n          2009,\n          2011\n        ],\n        \"semantic_type\": \"\",\n        \"description\": \"\"\n      }\n    },\n    {\n      \"column\": \"Tesla Annual Revenue (Millions of US $).1\",\n      \"properties\": {\n        \"dtype\": \"string\",\n        \"num_unique_values\": 5,\n        \"samples\": [\n          \"$413\",\n          \"$112\",\n          \"$204\"\n        ],\n        \"semantic_type\": \"\",\n        \"description\": \"\"\n      }\n    }\n  ]\n}"
            }
          },
          "metadata": {},
          "execution_count": 3
        }
      ]
    },
    {
      "cell_type": "markdown",
      "source": [
        "#**Question No 3**"
      ],
      "metadata": {
        "id": "Pxuzn2z2H6WW"
      }
    },
    {
      "cell_type": "markdown",
      "source": [
        "**Use yfinance to Extract Stock Data**\n",
        "\n",
        "**Reset the index, save, and display the first five rows of the gme_data dataframe using the head function.**"
      ],
      "metadata": {
        "id": "7og02t4cIJ5h"
      }
    },
    {
      "cell_type": "code",
      "source": [
        "# Use yfinance to extract GameStop stock data\n",
        "gme_data = yf.download('GME', start='2020-01-01', end='2022-01-01')\n",
        "\n",
        "# Reset the index of the DataFrame\n",
        "gme_data.reset_index(inplace=True)\n",
        "\n",
        "# Display the first five rows of the gme_data DataFrame\n",
        "print(\"First five rows of the gme_data DataFrame:\")\n",
        "print(gme_data.head())"
      ],
      "metadata": {
        "id": "cLv4e0Vgn2sv",
        "colab": {
          "base_uri": "https://localhost:8080/"
        },
        "outputId": "a5d1c604-2fae-4207-ad14-3a3cd8c12345"
      },
      "execution_count": null,
      "outputs": [
        {
          "output_type": "stream",
          "name": "stderr",
          "text": [
            "\r[*********************100%***********************]  1 of 1 completed"
          ]
        },
        {
          "output_type": "stream",
          "name": "stdout",
          "text": [
            "First five rows of the gme_data DataFrame:\n",
            "Price        Date   Close    High     Low    Open    Volume\n",
            "Ticker                GME     GME     GME     GME       GME\n",
            "0      2020-01-02  1.5775  1.6175  1.5175  1.5350  17814400\n",
            "1      2020-01-03  1.4700  1.5625  1.4600  1.5525  14175600\n",
            "2      2020-01-06  1.4625  1.4775  1.4000  1.4500  13579200\n",
            "3      2020-01-07  1.3800  1.4575  1.3600  1.4425  20912000\n",
            "4      2020-01-08  1.4300  1.4625  1.3525  1.3725  22517600\n"
          ]
        },
        {
          "output_type": "stream",
          "name": "stderr",
          "text": [
            "\n"
          ]
        }
      ]
    },
    {
      "cell_type": "markdown",
      "source": [
        "#**Question No: 4**"
      ],
      "metadata": {
        "id": "Oi0_QEFyIcLV"
      }
    },
    {
      "cell_type": "markdown",
      "source": [
        "**Use Webscraping to Extract GME Revenue Data**\n",
        "\n",
        "**Display the last five rows of the gme_revenue dataframe using the tail function. Upload a screenshot of the results.**"
      ],
      "metadata": {
        "id": "YUu2jr_zIm5O"
      }
    },
    {
      "cell_type": "code",
      "source": [
        "# Step 1: Download the webpage\n",
        "url = \"https://cf-courses-data.s3.us.cloud-object-storage.appdomain.cloud/IBMDeveloperSkillsNetwork-PY0220EN-SkillsNetwork/labs/project/stock.html\"\n",
        "response = requests.get(url)\n",
        "\n",
        "if response.status_code == 200:\n",
        "    print(\"Webpage successfully fetched\")\n",
        "else:\n",
        "    print(\"Failed to fetch the webpage\")\n",
        "\n",
        "# Step 2: Parse the HTML content\n",
        "soup = BeautifulSoup(response.text, 'html.parser')\n",
        "\n",
        "# Step 3: Locate the table with GME revenue data\n",
        "tables = soup.find_all('table')\n",
        "\n",
        "# Assuming the second table contains GME revenue data\n",
        "gme_table = tables[1]  # Adjust index if necessary\n",
        "\n",
        "# Step 4: Extract table rows and columns\n",
        "gme_data = []\n",
        "rows = gme_table.find_all('tr')\n",
        "for row in rows:\n",
        "    cols = row.find_all('td')\n",
        "    cols = [col.text.strip() for col in cols]\n",
        "    if cols:  # Skip empty rows\n",
        "        gme_data.append(cols)\n",
        "\n",
        "# Step 5: Convert the data into a Pandas DataFrame\n",
        "gme_revenue = pd.DataFrame(gme_data, columns=['Date', 'Revenue'])\n",
        "\n",
        "# Display the last five rows of the DataFrame\n",
        "print(gme_revenue.tail())\n"
      ],
      "metadata": {
        "colab": {
          "base_uri": "https://localhost:8080/"
        },
        "id": "NkQJV1Z1Ih59",
        "outputId": "529c1c65-503a-473e-a3be-fd2358d02f73"
      },
      "execution_count": 3,
      "outputs": [
        {
          "output_type": "stream",
          "name": "stdout",
          "text": [
            "Webpage successfully fetched\n",
            "          Date Revenue\n",
            "57  2006-01-31  $1,667\n",
            "58  2005-10-31    $534\n",
            "59  2005-07-31    $416\n",
            "60  2005-04-30    $475\n",
            "61  2005-01-31    $709\n"
          ]
        }
      ]
    },
    {
      "cell_type": "markdown",
      "source": [
        "#**Question NO 5**"
      ],
      "metadata": {
        "id": "5HcjF12eIt_b"
      }
    },
    {
      "cell_type": "markdown",
      "source": [
        "**Plot Tesla Stock Graph**\n",
        "\n",
        "**Use the make_graph function to graph the Tesla Stock Data, also provide a title for the graph.**"
      ],
      "metadata": {
        "id": "h0Ds6nVjJEY4"
      }
    },
    {
      "cell_type": "code",
      "source": [
        "# Define the function to create and display the graph\n",
        "def make_graph(data, title):\n",
        "    plt.figure(figsize=(10, 6))\n",
        "    plt.plot(data.index, data['Close'], label='Closing Price', color='blue')\n",
        "    plt.title(title, fontsize=16)\n",
        "    plt.xlabel('Date', fontsize=12)\n",
        "    plt.ylabel('Closing Price (USD)', fontsize=12)\n",
        "    plt.grid(True)\n",
        "    plt.legend()\n",
        "    plt.show()\n",
        "\n",
        "# Extract Tesla stock data using yfinance\n",
        "tesla_data = yf.download('TSLA', start='2020-01-01', end='2025-01-01')\n",
        "\n",
        "# Plot the Tesla stock graph with a title\n",
        "make_graph(tesla_data, title='Tesla Stock Prices (2020-2025)')\n"
      ],
      "metadata": {
        "colab": {
          "base_uri": "https://localhost:8080/",
          "height": 587
        },
        "id": "pksegwlmnSJf",
        "outputId": "2069d38e-f483-498d-f97f-eab85e9154a5"
      },
      "execution_count": 1,
      "outputs": [
        {
          "output_type": "stream",
          "name": "stderr",
          "text": [
            "\r[*********************100%***********************]  1 of 1 completed\n"
          ]
        },
        {
          "output_type": "display_data",
          "data": {
            "text/plain": [
              "<Figure size 1000x600 with 1 Axes>"
            ],
            "image/png": "[encoded data removed]"
          },
          "metadata": {}
        }
      ]
    },
    {
      "cell_type": "markdown",
      "source": [
        "#**Question NO6**"
      ],
      "metadata": {
        "id": "IkvyuMx-I2ux"
      }
    },
    {
      "cell_type": "markdown",
      "source": [
        "**Plot GameStop Stock Graph**\n",
        "\n",
        "**Use the make_graph function to graph the GameStop Stock Data, also provide a title for the graph**"
      ],
      "metadata": {
        "id": "zuKH0cFnJQsu"
      }
    },
    {
      "cell_type": "code",
      "source": [
        "\n",
        "# Download GameStop stock data\n",
        "gme_data = yf.download(\"GME\", start=\"2020-01-01\", end=\"2021-01-01\")\n",
        "\n",
        "# Define a function to plot stock data\n",
        "def make_graph(data, title=\"Stock Data\"):\n",
        "    plt.figure(figsize=(12, 6))\n",
        "    plt.plot(data.index, data['Close'], label='Close Price', color='blue')\n",
        "    plt.title(title, fontsize=16)\n",
        "    plt.xlabel('Date', fontsize=12)\n",
        "    plt.ylabel('Close Price (USD)', fontsize=12)\n",
        "    plt.legend()\n",
        "    plt.grid(True)\n",
        "    plt.show()\n",
        "\n",
        "# Plot the GameStop stock graph with a title\n",
        "make_graph(gme_data, title=\"GameStop Stock Data (2020)\")\n"
      ],
      "metadata": {
        "colab": {
          "base_uri": "https://localhost:8080/",
          "height": 587
        },
        "id": "6FmhaKqCCsEV",
        "outputId": "cd402c6d-8353-4678-9c0b-3aab3a78e224"
      },
      "execution_count": 2,
      "outputs": [
        {
          "output_type": "stream",
          "name": "stderr",
          "text": [
            "\r[*********************100%***********************]  1 of 1 completed\n"
          ]
        },
        {
          "output_type": "display_data",
          "data": {
            "text/plain": [
              "<Figure size 1200x600 with 1 Axes>"
            ],
            "image/png": "[encoded data removed]"
          },
          "metadata": {}
        }
      ]
    },
    {
      "cell_type": "code",
      "source": [],
      "metadata": {
        "id": "mAfOTxVeEQdh"
      },
      "execution_count": null,
      "outputs": []
    }
  ]
}